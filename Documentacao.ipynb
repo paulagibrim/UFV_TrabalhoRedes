{
 "cells": [
  {
   "cell_type": "markdown",
   "metadata": {},
   "source": [
    "# Trabalho de INF 791 - Redes Complexas\n",
    "Paula Teresa Mota Gibrim\n",
    "<b>Matrícula:</b> ES 90366"
   ]
  },
  {
   "cell_type": "markdown",
   "metadata": {},
   "source": [
    "## Introdução\n",
    "O trabalho prático, inicialmente, consistia do uso de APIs para captação de dados e então, modelagem do grafo usando NetworkX. Infelizmente, tive muita dificuldade para captação desses dados. A ideia inicial era coletar dados do Twitter de usuários que acompanharam a semi-final do campeonato mundial de Counter-Strike: Global Offensive, o IEM Rio 2022, partida entre Fúria e Heroic, e analisar novas conexões entre esses usuários após a partida. Todavia, após modificações das políticas de uso da API não permitiam mais a busca de tweets por palavras-chave (e todas as modificações que consegui moldar do problema, eu obtive o mesmo resultado).\n",
    "\n",
    "[Aqui você visualiza o resultado das buscas](https://cdn.discordapp.com/attachments/1019674912333504614/1108094286978875522/image.png)\n",
    "\n",
    "Diante disso, tentei solicitar acesso à API para Projetos Estudantis, que requer um tempo maior de análise, e não obtive resposta. Solicitei também a API do TikTok, mas demoraram 3 semanas para dar um retorno, e o mesmo foi negativo. Tentei buscar outras APIs, e todas tinham os mesmos problemas: não faziam nenhuma coleta de dados da rede, mas sim do usuário.\n",
    "\n",
    "Analisando essa situação, optei por avançar no trabalho sem coletar meus próprios dados, utilizando um dataset já coletado e fazendo a modelagem em cima dele. Sendo assim, o dataset escolhido visa medir a probabilidade de conectividade entre usuários de diferentes países, considerando os dados de usuários do Facebook."
   ]
  },
  {
   "cell_type": "markdown",
   "metadata": {},
   "source": [
    "## Rede analisada\n",
    "O dataset selecionado é baseado em dados anônimos coletados no Facebook. Cada usuário é atribuído a um país baseado nas informações disponibilizadas em seu perfil, e de conexões de seus dispositivos. Diante disso, o SCI (Social Connectedness Index) entre dois locais <i>i</i> e <i>j</i> é calculado como:\n",
    "$$\n",
    "    SCI_{i,j} = \\frac{\\textrm{FB_Connections}_{i,j}}{\\textrm{FB_Users}_{i} \\times \\textrm{FB_Users}_{j}}\n",
    "$$\n",
    "onde $\\textrm{FB_Users}_{i}$ e $\\textrm{FB_Users}_{j}$ se referem à quantidade de usuários do Facebook no país <i>i</i> e <i>j</i>, e $\\textrm{FB_Connections}_{i,j}$ é o número total de conexões entre indivíduos desses dois países."
   ]
  },
  {
   "cell_type": "markdown",
   "metadata": {},
   "source": [
    "## O código"
   ]
  },
  {
   "cell_type": "code",
   "execution_count": 1,
   "metadata": {
    "ExecuteTime": {
     "end_time": "2023-05-31T22:10:42.252715100Z",
     "start_time": "2023-05-31T22:10:40.220320300Z"
    }
   },
   "outputs": [],
   "source": [
    "import networkx as nx\n",
    "import matplotlib.pyplot as plt\n",
    "import pandas as pd\n",
    "\n",
    "data = pd.read_csv('data.tsv', sep='\\t')\n",
    "\n",
    "# Criar o grafo\n",
    "graph = nx.Graph()\n",
    "user_loc_list = data['user_loc'].tolist()\n",
    "fr_loc_list = data['fr_loc'].tolist()\n",
    "scaled_sci_list = data['scaled_sci'].tolist()\n",
    "\n",
    "graph.add_nodes_from(user_loc_list)\n",
    "for i in range(0, len(user_loc_list)):\n",
    "    graph.add_edge(user_loc_list[i], fr_loc_list[i], weight=scaled_sci_list[i])\n",
    "# # Exportando para o Gephi\n",
    "# nx.write_gexf(graph, \"graph.gexf\")"
   ]
  },
  {
   "cell_type": "markdown",
   "metadata": {},
   "source": [
    "## Análise da rede\n",
    "\n",
    "### Calcular e plotar o grau dos nodos do grafo:"
   ]
  },
  {
   "cell_type": "code",
   "execution_count": null,
   "metadata": {
    "ExecuteTime": {
     "end_time": "2023-05-31T22:10:42.440788200Z",
     "start_time": "2023-05-31T22:10:42.249715500Z"
    }
   },
   "outputs": [],
   "source": [
    "degree = {}\n",
    "x = []\n",
    "for node in graph.nodes:\n",
    "    degree[node] = len(graph.adj[node])\n",
    "    x.append(degree[node])\n",
    "\n",
    "plt.hist(x)\n",
    "plt.title(\"Histograma do Grau\")\n",
    "plt.show()"
   ]
  },
  {
   "cell_type": "markdown",
   "metadata": {},
   "source": [
    "Sendo assim, temos todos os vértices com grau 185, de modo que o grau médio do grafo também é 185. De fato, como o grafo é um grafo completo, ou seja, todos os países têm conexões com os outros países (mesmo que pequena), o grau será o mesmo que o número de nós do grafo."
   ]
  },
  {
   "cell_type": "markdown",
   "metadata": {},
   "source": [
    "### Calcular número de componentes conexos\n",
    "Como o grafo é completo, conseguimos acessar qualquer nó a partir de qualquer outro. Sendo assim, o grafo tem apenas 1 componente conexo. O cálculo é descrito abaixo, usando Depth First Search:"
   ]
  },
  {
   "cell_type": "code",
   "execution_count": null,
   "metadata": {
    "ExecuteTime": {
     "end_time": "2023-05-31T22:10:42.527298800Z",
     "start_time": "2023-05-31T22:10:42.440788200Z"
    }
   },
   "outputs": [],
   "source": [
    "def dfs(node):\n",
    "    if wasVisited[node]:\n",
    "        return\n",
    "    else:\n",
    "        wasVisited[node] = True\n",
    "        for neighbor in graph.adj[node]:\n",
    "            if not(wasVisited[neighbor]):\n",
    "                dfs(neighbor)\n",
    "\n",
    "wasVisited = {}\n",
    "\n",
    "for node in graph.nodes:\n",
    "    wasVisited[node] = False\n",
    "\n",
    "conex = 0\n",
    "for node in graph.nodes:\n",
    "    if not(wasVisited[node]):\n",
    "        dfs(node)\n",
    "        conex += 1\n",
    "\n",
    "print(conex)"
   ]
  },
  {
   "cell_type": "markdown",
   "metadata": {},
   "source": [
    "### Calcular o coeficiente de clusterização e plotar\n",
    "Para calcular o coeficiente de clusterização de um grafo não-direcionado, basta fazer o seguinte cálculo:\n",
    "\n",
    "$$\n",
    "CC_i = \\frac{\\textrm{#conexões não-direcionadas entre os vizinhos de i}}{n_i * \\frac{(n_i -1)}{2}}\n",
    "$$"
   ]
  },
  {
   "cell_type": "code",
   "execution_count": null,
   "metadata": {
    "ExecuteTime": {
     "end_time": "2023-05-31T22:10:42.527298800Z",
     "start_time": "2023-05-31T22:10:42.461298600Z"
    }
   },
   "outputs": [],
   "source": [
    "# Código para achar a intersecção de duas listas (Geeks for Geeks)\n",
    "# Link: https://www.geeksforgeeks.org/python-intersection-two-lists/\n",
    "def intersection(lst1, lst2):\n",
    "    lst3 = [value for value in lst1 if value in lst2]\n",
    "    return lst3"
   ]
  },
  {
   "cell_type": "code",
   "execution_count": null,
   "metadata": {
    "ExecuteTime": {
     "end_time": "2023-05-31T22:10:43.750673100Z",
     "start_time": "2023-05-31T22:10:42.472298900Z"
    }
   },
   "outputs": [],
   "source": [
    "cc = {}\n",
    "x = []\n",
    "\n",
    "# Para garantir que o set do coeficiente de clusterização inicie vazio\n",
    "for node in graph.nodes:\n",
    "    cc[node] = 0\n",
    "\n",
    "# Calcular o número de intersecções\n",
    "for node in graph.nodes:\n",
    "    for neighbor in graph.adj[node]:\n",
    "        intersec = intersection(graph.adj[node], graph.adj[neighbor])\n",
    "        cc[node] += len(intersec)\n",
    "\n",
    "# Como cada intersecção é calculada 2 vezes, basta dividir o valor encontrado por 2, e então fazer o cálculo\n",
    "for node in graph.nodes:\n",
    "    cc[node] /= 2\n",
    "    cc[node] /= (degree[node] * (degree[node] -1)/2)\n",
    "    x.append(cc[node])\n",
    "\n",
    "plt.hist(x)\n",
    "plt.title(\"Histograma do Coeficiente de Clusterização\")\n",
    "plt.show()"
   ]
  },
  {
   "cell_type": "markdown",
   "metadata": {},
   "source": [
    "Sendo assim, temos todos os coeficientes de clusterização com valor 1, de modo que o coeficiente de clusterização global do grafo também é 1."
   ]
  },
  {
   "cell_type": "markdown",
   "metadata": {},
   "source": [
    "### Calcular o overlap dos nodos\n",
    "Para calcular o overlap de cada nodo, basta fazer:\n",
    "$$\n",
    "O_{i,j} = \\frac{\\textrm{neighbor}_i \\cap \\textrm{neighbor}_j}{\\textrm{neighbor}_i \\cup \\textrm{neighbor}_j}\n",
    "$$"
   ]
  },
  {
   "cell_type": "code",
   "execution_count": null,
   "metadata": {
    "ExecuteTime": {
     "end_time": "2023-05-31T22:10:44.556871900Z",
     "start_time": "2023-05-31T22:10:43.781672300Z"
    }
   },
   "outputs": [],
   "source": [
    "overlap = {}\n",
    "x = []\n",
    "\n",
    "# Para que cada par de vértices não seja calculado duas vezes, vamos fazer:\n",
    "for node in graph.nodes:\n",
    "    for neighbor in graph.adj[node]:\n",
    "        overlap[node,neighbor] = -1\n",
    "        overlap[neighbor,node] = -1\n",
    "\n",
    "for node in graph.nodes:\n",
    "    for neighbor in graph.adj[node]:\n",
    "        if overlap[node,neighbor] == -1:\n",
    "            intersec = intersection(graph.adj[node], graph.adj[neighbor])\n",
    "            union = set(graph.adj[node]) or set(graph.adj[neighbor])\n",
    "            overlap[node,neighbor] = len(intersec)/len(union)\n",
    "            overlap[neighbor,node] = len(intersec)/len(union)\n",
    "            x.append(overlap[node, neighbor])\n",
    "\n",
    "plt.hist(x)\n",
    "plt.title(\"Histograma do Overlap\")\n",
    "plt.show()"
   ]
  },
  {
   "cell_type": "markdown",
   "metadata": {},
   "source": [
    "### Calcular a distância média e a distribuição de distâncias de todos os nodos da rede\n",
    "Para calcular a distância média, é necessário saber a distância entre um nó $n$ e todos os outros nós. Como o grafo analizado é completo, temos que a distância entre quaisquer nós é $1$, e assim, a distância média também é $1$. O cálculo, usando Busca em Largura (BFS) é descrito abaixo:"
   ]
  },
  {
   "cell_type": "code",
   "execution_count": null,
   "metadata": {
    "ExecuteTime": {
     "end_time": "2023-05-31T22:10:44.613874800Z",
     "start_time": "2023-05-31T22:10:44.558874700Z"
    }
   },
   "outputs": [],
   "source": [
    "# def bfs(node, destiny):\n",
    "#     if node == destiny:\n",
    "#         return 0\n",
    "#\n",
    "#     wasVisited = {}\n",
    "#\n",
    "#     # Marcar todos os nós como não visitados\n",
    "#     for node in graph.nodes:\n",
    "#         wasVisited[node] = False\n",
    "#\n",
    "#     # Criar a queue para a busca\n",
    "#     queue = []\n",
    "#     queue.append((node, 0))\n",
    "#     wasVisited[node] = True\n",
    "#\n",
    "#     while queue:\n",
    "#         node = queue[0][0]\n",
    "#         aux = queue[0][1]\n",
    "#         queue.pop(0)\n",
    "#\n",
    "#         for neighbor in graph.adj[node]:\n",
    "#             if neighbor == destiny:\n",
    "#                 return aux + 1\n",
    "#             if not wasVisited[neighbor]:\n",
    "#                 wasVisited[neighbor] = True\n",
    "#                 queue.append((neighbor, aux+1))\n",
    "#\n",
    "# distance = {}\n",
    "# x = []\n",
    "#\n",
    "# # Para que cada par de vértices não seja calculado duas vezes, vamos fazer:\n",
    "# for node in graph.nodes:\n",
    "#     for neighbor in graph.adj[node]:\n",
    "#         distance[(node,neighbor)] = -1\n",
    "#         distance[(neighbor,node)] = -1\n",
    "#\n",
    "# count = 0\n",
    "# for node in graph.nodes:\n",
    "#     count += 1\n",
    "#     for neighbor in graph.adj[node]:\n",
    "#         if distance[(node, neighbor)] == -1:\n",
    "#             aux = bfs(node, neighbor)\n",
    "#             distance[(node, neighbor)] = aux\n",
    "#             distance[(neighbor, node)] = aux\n",
    "#             x.append(aux)\n",
    "# plt.hist(x)\n",
    "# plt.title(\"Histograma das Distâncias\")\n",
    "# plt.show()"
   ]
  }
 ],
 "metadata": {
  "kernelspec": {
   "display_name": "Python 3 (ipykernel)",
   "language": "python",
   "name": "python3"
  },
  "language_info": {
   "codemirror_mode": {
    "name": "ipython",
    "version": 3
   },
   "file_extension": ".py",
   "mimetype": "text/x-python",
   "name": "python",
   "nbconvert_exporter": "python",
   "pygments_lexer": "ipython3",
   "version": "3.10.6"
  }
 },
 "nbformat": 4,
 "nbformat_minor": 1
}
